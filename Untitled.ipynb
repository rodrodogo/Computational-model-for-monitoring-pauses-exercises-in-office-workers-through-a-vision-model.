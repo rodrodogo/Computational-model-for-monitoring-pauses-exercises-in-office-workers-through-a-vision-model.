{
 "cells": [
  {
   "cell_type": "code",
   "execution_count": 8,
   "metadata": {},
   "outputs": [
    {
     "ename": "NameError",
     "evalue": "name 'vector2' is not defined",
     "output_type": "error",
     "traceback": [
      "\u001b[0;31m---------------------------------------------------------------------------\u001b[0m",
      "\u001b[0;31mNameError\u001b[0m                                 Traceback (most recent call last)",
      "\u001b[0;32m<ipython-input-8-33b9f7112f79>\u001b[0m in \u001b[0;36m<module>\u001b[0;34m\u001b[0m\n\u001b[1;32m      5\u001b[0m   \u001b[0;32mreturn\u001b[0m \u001b[0mnp\u001b[0m\u001b[0;34m.\u001b[0m\u001b[0marccos\u001b[0m\u001b[0;34m(\u001b[0m\u001b[0mnp\u001b[0m\u001b[0;34m.\u001b[0m\u001b[0mdot\u001b[0m\u001b[0;34m(\u001b[0m\u001b[0mv1\u001b[0m\u001b[0;34m,\u001b[0m\u001b[0mv2\u001b[0m\u001b[0;34m)\u001b[0m\u001b[0;34m)\u001b[0m\u001b[0;34m*\u001b[0m\u001b[0;36m180\u001b[0m\u001b[0;34m/\u001b[0m\u001b[0;36m3.1416\u001b[0m\u001b[0;34m\u001b[0m\u001b[0;34m\u001b[0m\u001b[0m\n\u001b[1;32m      6\u001b[0m \u001b[0;34m\u001b[0m\u001b[0m\n\u001b[0;32m----> 7\u001b[0;31m \u001b[0;32mfor\u001b[0m \u001b[0mi\u001b[0m \u001b[0;32min\u001b[0m \u001b[0mrange\u001b[0m \u001b[0;34m(\u001b[0m\u001b[0;36m0\u001b[0m\u001b[0;34m,\u001b[0m \u001b[0mlen\u001b[0m\u001b[0;34m(\u001b[0m\u001b[0mvector2\u001b[0m\u001b[0;34m)\u001b[0m\u001b[0;34m)\u001b[0m\u001b[0;34m:\u001b[0m\u001b[0;34m\u001b[0m\u001b[0;34m\u001b[0m\u001b[0m\n\u001b[0m\u001b[1;32m      8\u001b[0m     \u001b[0mprint\u001b[0m \u001b[0;34m(\u001b[0m\u001b[0mangle_between\u001b[0m\u001b[0;34m(\u001b[0m\u001b[0mvector1\u001b[0m\u001b[0;34m[\u001b[0m\u001b[0mi\u001b[0m\u001b[0;34m]\u001b[0m\u001b[0;34m,\u001b[0m \u001b[0mvector2\u001b[0m\u001b[0;34m[\u001b[0m\u001b[0mi\u001b[0m\u001b[0;34m]\u001b[0m\u001b[0;34m)\u001b[0m\u001b[0;34m)\u001b[0m\u001b[0;34m\u001b[0m\u001b[0;34m\u001b[0m\u001b[0m\n\u001b[1;32m      9\u001b[0m \u001b[0;34m\u001b[0m\u001b[0m\n",
      "\u001b[0;31mNameError\u001b[0m: name 'vector2' is not defined"
     ]
    }
   ],
   "source": [
    "import matplotlib.pyplot as plt\n",
    "import numpy as np\n",
    "\n",
    "def angle_between(v1, v2):\n",
    "  return np.arccos(np.dot(v1,v2))*180/3.1416\n",
    "\n",
    "for i in range (0, len(vector2)):\n",
    "    print (angle_between(vector1[i], vector2[i]))\n",
    "\n",
    "# importar todas las funciones de pylab\n",
    "\n",
    "\n"
   ]
  },
  {
   "cell_type": "code",
   "execution_count": null,
   "metadata": {},
   "outputs": [],
   "source": [
    "##muedium\n",
    "\n",
    "\n",
    "#arreglo de puntos de un modelo de salida es decir la imagen que se presenta al usuaio de lo que debe hacer\n",
    "model_features = np.array([  [110.26819144519851,66.18558445793182],[115.04511459884941,59.95204762262129],[104.24422876380297,60.79343298529837],[125.63798896997355,64.26786816073763],[96.10015750395186,62.76589508650368],[135.30378663771813,101.42524867670082],[85.70168806142846,104.06244418964312],[146.062450364406,145.2717982191984],[76.54048587190502,149.6101070656387],[150.3816600755031,186.56654803205558],[67.22789259736177,190.73575743441452],[128.6021099164792,191.75980742339496],[92.41950487070048,187.45633373928442],[123.16779769719344,262.51703878321075],[102.66161791730948,264.5591599282588],[115.69736869604208,332.80898157260765],[112.24782357419977,335.2228056317638]])\n",
    "\n",
    "\"\"\"input_features = np.array( [ [181.63750695254552,130.08070896015093],\n",
    "                  [193.35504186014256,129.60693359375],\n",
    "                  [181.676619622494,99.27040592891234],\n",
    "                  [195.3589615283773,99.54781172340483],\n",
    "                  [182.46920138110448,68.77699178851532],\n",
    "                  [195.82704976003922,70.38684313584858],\n",
    "                  [167.78504127472755,69.10231332741824],\n",
    "                  [209.0658278409609,71.43312339931148],\n",
    "                  [172.78636421767655,48.9758594379351],\n",
    "                  [209.32652086784867,50.55888755590536],\n",
    "                  [183.17260843121124,32.6384645157751],\n",
    "                  [202.4224700334007,31.29973260901781],\n",
    "                  [189.63463162077076,15.386203543221455],\n",
    "                  [199.45979968119224,16.561631881773252],\n",
    "                  [189.04920537926344,15.980988498791646],\n",
    "                  [195.10648325166815,16.735677815596887],\n",
    "                  [190.4011963721843,18.421117938446173]])\n",
    "                  \"\"\"\n",
    "#img3 esta acaso en que no deberian matchear\n",
    "input_features = np.array([ [423.79098142631324,306.9720368737841],[427.43178786934584,305.24058586150295],\n",
    "                           [270.96640145268424,253.64299658393122],[356.28166940889474,213.627540677438],\n",
    "                           [326.71811589934947,193.52683504453432],[332.9113555789458,192.40618682742587],\n",
    "                           [248.81498581704463,161.25125442683003],[248.28203846972278,160.58113828428992],\n",
    "                           [299.9664781622386,198.69375788469722],[313.5522270944796,189.07762151933366],\n",
    "                           [250.37743831886857,177.9092210109132],[279.8784723541616,164.61058074119956],\n",
    "                           [210.56662236670113,170.23272016354576],[221.67911158461516,152.87581791859196],\n",
    "                           [204.81693252979088,175.29893499589616],\n",
    "                           [208.22816247606093,169.61283334219968],[206.38985837943824,175.43059993996235]])\n",
    "      \n",
    "    \n",
    "#p2modelo de entrada, denotado como la imagen del usuario imitando la pose\n",
    "#esta imagen es casi igual a la primera, caso en que deberian matchear\n",
    "\n",
    "#input_features = np.array([ [97.35276883492674,33.67495852221775],[103.03059618760639,27.40753693339426],[87.33127846328202,24.66838821826742],[115.02459307125108,31.98648252375859],[79.8683030837241,30.133419407944736],[125.1873516275725,81.72989010347003],[66.51035000099748,79.48846512731411],[134.77065048514638,132.8575864561801],[51.95938766420119,136.08650593442212],[153.92625439120638,179.26232067063626],[36.42973879803016,186.58477783203125],[115.2172561823626,186.2949510863783],[76.46948556862918,184.12517621823324],[118.27362559277725,270.2025690338491],[77.16966226778143,268.526871380639],[106.25429318201682,354.96396432127005],[91.40781001822032,350.0346309201727]])\n",
    "\n",
    "# Draw point based on above x, y axis values.\n",
    "plt.subplot(1,2,1)\n",
    "for i in range (0, len(input_features)):\n",
    "    plt.scatter (model_features[i][0], model_features[i][1])\n",
    "    \n",
    "plt.subplot(1,2,2)    \n",
    "# Draw point based on above x, y axis values.\n",
    "for i in range (0, len(model_features)):\n",
    "    plt.scatter (input_features[i][0], input_features[i][1])\n",
    "    \n",
    "    \n",
    "\n",
    "#plt.scatter(vector1[0:][0], vector1[:1])\n",
    "# Set chart title.\n",
    "plt.title(\"Extract Number Root \")\n",
    "# Set x, y label text.\n",
    "plt.show()\n"
   ]
  },
  {
   "cell_type": "code",
   "execution_count": 9,
   "metadata": {},
   "outputs": [
    {
     "name": "stderr",
     "output_type": "stream",
     "text": [
      "/home/fabian/.local/lib/python3.6/site-packages/ipykernel_launcher.py:14: FutureWarning: `rcond` parameter will change to the default of machine precision times ``max(M, N)`` where M and N are the input matrix dimensions.\n",
      "To use the future default and silence this warning we advise to pass `rcond=None`, to keep using the old, explicitly pass `rcond=-1`.\n",
      "  \n"
     ]
    }
   ],
   "source": [
    "import numpy as np\n",
    "# In order to solve the augmented matrix (incl translation),\n",
    "# it's required all vectors are augmented with a \"1\" at the end\n",
    "# -> Pad the features with ones, so that our transformation can do translations too\n",
    "pad = lambda x: np.hstack([x, np.ones((x.shape[0], 1))]) \n",
    "unpad = lambda x: x[:, :-1]\n",
    "\n",
    "# Pad to [[ x y 1] , [x y 1]]\n",
    "Y = pad(model_features)\n",
    "X = pad(input_features)\n",
    "\n",
    "# Solve the least squares problem X * A = Y\n",
    "# and find the affine transformation matrix A. \n",
    "A, res, rank, s = np.linalg.lstsq(X, Y)\n",
    "A[np.abs(A) < 1e-10] = 0  # set really small values to zero"
   ]
  },
  {
   "cell_type": "code",
   "execution_count": 10,
   "metadata": {},
   "outputs": [
    {
     "name": "stdout",
     "output_type": "stream",
     "text": [
      "(3, 3)\n",
      "[[ 1.87568616e-01 -1.04324132e+00  0.00000000e+00]\n",
      " [-2.41724052e-01  8.62096420e-02  0.00000000e+00]\n",
      " [ 1.05509607e+02  4.42102793e+02  1.00000000e+00]]\n",
      "442.1027927825757\n"
     ]
    }
   ],
   "source": [
    "print(A.shape)\n",
    "print(A)\n",
    "print(A[2][1])"
   ]
  },
  {
   "cell_type": "code",
   "execution_count": 11,
   "metadata": {},
   "outputs": [
    {
     "name": "stdout",
     "output_type": "stream",
     "text": [
      "[[423.79098143 306.97203687]\n",
      " [427.43178787 305.24058586]\n",
      " [270.96640145 253.64299658]\n",
      " [356.28166941 213.62754068]\n",
      " [326.7181159  193.52683504]\n",
      " [332.91135558 192.40618683]\n",
      " [248.81498582 161.25125443]\n",
      " [248.28203847 160.58113828]\n",
      " [299.96647816 198.69375788]\n",
      " [313.55222709 189.07762152]\n",
      " [250.37743832 177.90922101]\n",
      " [279.87847235 164.61058074]\n",
      " [210.56662237 170.23272016]\n",
      " [221.67911158 152.87581792]\n",
      " [204.81693253 175.298935  ]\n",
      " [208.22816248 169.61283334]\n",
      " [206.38985838 175.43059994]]\n",
      "[[110.26819145  66.18558446]\n",
      " [115.0451146   59.95204762]\n",
      " [104.24422876  60.79343299]\n",
      " [125.63798897  64.26786816]\n",
      " [ 96.1001575   62.76589509]\n",
      " [135.30378664 101.42524868]\n",
      " [ 85.70168806 104.06244419]\n",
      " [146.06245036 145.27179822]\n",
      " [ 76.54048587 149.61010707]\n",
      " [150.38166008 186.56654803]\n",
      " [ 67.2278926  190.73575743]\n",
      " [128.60210992 191.75980742]\n",
      " [ 92.41950487 187.45633374]\n",
      " [123.1677977  262.51703878]\n",
      " [102.66161792 264.55915993]\n",
      " [115.6973687  332.80898157]\n",
      " [112.24782357 335.22280563]]\n"
     ]
    }
   ],
   "source": [
    "print(input_features)\n",
    "print(model_features)"
   ]
  },
  {
   "cell_type": "code",
   "execution_count": 15,
   "metadata": {},
   "outputs": [
    {
     "data": {
      "image/png": "[encoded data removed]",
      "text/plain": [
       "<Figure size 432x288 with 2 Axes>"
      ]
     },
     "metadata": {
      "needs_background": "light"
     },
     "output_type": "display_data"
    }
   ],
   "source": [
    "transform = lambda x: unpad(np.dot(pad(x), A))\n",
    "\n",
    "#Image of input pose onto model pose\n",
    "input_transform = transform(input_features)\n",
    "plt.subplot(1,2,1)\n",
    "\n",
    "# Draw point based on above x, y axis values.\n",
    "for i in range (0, len(input_features)):\n",
    "    #plt.scatter(input_features[i][0], input_features[i][1], c=\"#000000\")\n",
    "    plt.scatter (input_transform[i][0], input_transform[i][1], c =\"#ff0000\")\n",
    "    \n",
    "plt.subplot(1,2,2)\n",
    "# Draw point based on above x, y axis values.\n",
    "for i in range (0, len(input_features)):\n",
    "    #plt.scatter (input_transform[i][0], input_transform[i][1])\n",
    "    plt.scatter (model_features[i][0], model_features[i][1])\n",
    "    #plt.annotate (\"*\",  (input_transform[i][0], input_transform[i][1]))\n",
    "    "
   ]
  },
  {
   "cell_type": "code",
   "execution_count": 104,
   "metadata": {},
   "outputs": [
    {
     "data": {
      "text/plain": [
       "array([[110.26819145,  66.18558446],\n",
       "       [115.0451146 ,  59.95204762],\n",
       "       [104.24422876,  60.79343299],\n",
       "       [125.63798897,  64.26786816],\n",
       "       [ 96.1001575 ,  62.76589509],\n",
       "       [135.30378664, 101.42524868],\n",
       "       [ 85.70168806, 104.06244419],\n",
       "       [146.06245036, 145.27179822],\n",
       "       [ 76.54048587, 149.61010707],\n",
       "       [150.38166008, 186.56654803],\n",
       "       [ 67.2278926 , 190.73575743],\n",
       "       [128.60210992, 191.75980742],\n",
       "       [ 92.41950487, 187.45633374],\n",
       "       [123.1677977 , 262.51703878],\n",
       "       [102.66161792, 264.55915993],\n",
       "       [115.6973687 , 332.80898157],\n",
       "       [112.24782357, 335.22280563]])"
      ]
     },
     "execution_count": 104,
     "metadata": {},
     "output_type": "execute_result"
    }
   ],
   "source": [
    "model_features"
   ]
  },
  {
   "cell_type": "code",
   "execution_count": 16,
   "metadata": {},
   "outputs": [
    {
     "name": "stdout",
     "output_type": "stream",
     "text": [
      "[[332.91135558 192.40618683]\n",
      " [248.81498582 161.25125443]\n",
      " [248.28203847 160.58113828]\n",
      " [299.96647816 198.69375788]\n",
      " [313.55222709 189.07762152]\n",
      " [250.37743832 177.90922101]]\n",
      "[[135.30378664 101.42524868]\n",
      " [ 85.70168806 104.06244419]\n",
      " [146.06245036 145.27179822]\n",
      " [ 76.54048587 149.61010707]\n",
      " [150.38166008 186.56654803]\n",
      " [ 67.2278926  190.73575743]]\n"
     ]
    }
   ],
   "source": [
    "#separando en 2 partes que son lasque mas interesan\n",
    "torso_input= input_features[5:11]\n",
    "cadera_input = input_features[11:17]\n",
    "#separando en 2 partes que son lasque mas interesan\n",
    "torso_model= model_features[5:11]\n",
    "cadera_model = model_features[11:17]\n",
    "\n",
    "print(torso_input)\n",
    "print(torso_model)"
   ]
  },
  {
   "cell_type": "code",
   "execution_count": 19,
   "metadata": {},
   "outputs": [
    {
     "name": "stderr",
     "output_type": "stream",
     "text": [
      "/home/fabian/.local/lib/python3.6/site-packages/ipykernel_launcher.py:7: FutureWarning: `rcond` parameter will change to the default of machine precision times ``max(M, N)`` where M and N are the input matrix dimensions.\n",
      "To use the future default and silence this warning we advise to pass `rcond=None`, to keep using the old, explicitly pass `rcond=-1`.\n",
      "  import sys\n"
     ]
    },
    {
     "data": {
      "image/png": "[encoded data removed]",
      "text/plain": [
       "<Figure size 432x288 with 1 Axes>"
      ]
     },
     "metadata": {
      "needs_background": "light"
     },
     "output_type": "display_data"
    }
   ],
   "source": [
    "# Pad to [[ x y 1] , [x y 1]]\n",
    "X = pad(torso_input)\n",
    "Y = pad(torso_model)\n",
    "\n",
    "# Solve the least squares problem X * A = Y\n",
    "# and find the affine transformation matrix A. \n",
    "B, res, rank, s = np.linalg.lstsq(X, Y)\n",
    "B[np.abs(B) < 1e-10] = 0  # set really small values to zero\n",
    "\n",
    "transform_2 = lambda x: unpad(np.dot(pad(x), B))\n",
    "#Image of input pose onto model pose\n",
    "input_torso_transform = transform_2(torso_input)\n",
    "\n",
    "# Draw point based on above x, y axis values.\n",
    "#for i in range (0, len(input_features)):\n",
    " #   plt.scatter (model_features[i][0], model_features[i][1])\n",
    "    \n",
    "    \n",
    "# Draw point based on above x, y axis values.\n",
    "for i in range (0, len(torso_model)):\n",
    "    plt.scatter (input_torso_transform[i][0], input_torso_transform[i][1], c=\"#FF0000\")\n",
    "    plt.scatter (torso_model[i][0], torso_model[i][1], c=\"#000000\")\n",
    "    #plt.annotate (\"*\",  (input_torso_transform[i][0], input_torso_transform[i][1]))\n"
   ]
  },
  {
   "cell_type": "code",
   "execution_count": 20,
   "metadata": {},
   "outputs": [
    {
     "name": "stderr",
     "output_type": "stream",
     "text": [
      "/home/fabian/.local/lib/python3.6/site-packages/ipykernel_launcher.py:6: FutureWarning: `rcond` parameter will change to the default of machine precision times ``max(M, N)`` where M and N are the input matrix dimensions.\n",
      "To use the future default and silence this warning we advise to pass `rcond=None`, to keep using the old, explicitly pass `rcond=-1`.\n",
      "  \n"
     ]
    },
    {
     "data": {
      "image/png": "[encoded data removed]",
      "text/plain": [
       "<Figure size 432x288 with 1 Axes>"
      ]
     },
     "metadata": {
      "needs_background": "light"
     },
     "output_type": "display_data"
    }
   ],
   "source": [
    "Y = pad(cadera_model)\n",
    "X = pad(cadera_input)\n",
    "\n",
    "# Solve the least squares problem X * A = Y\n",
    "# and find the affine transformation matrix A. \n",
    "C, res, rank, s = np.linalg.lstsq(X, Y)\n",
    "C[np.abs(C) < 1e-10] = 0  # set really small values to zero\n",
    "transform_3 = lambda x: unpad(np.dot(pad(x), C))\n",
    "\n",
    "#Image of input pose onto model pose\n",
    "input_cadera_transform = transform_3(cadera_input)\n",
    "\n",
    "# Draw point based on above x, y axis values.\n",
    "#for i in range (0, len(input_features)):\n",
    " #   plt.scatter (model_features[i][0], model_features[i][1])\n",
    "    \n",
    "    \n",
    "# Draw point based on above x, y axis values.\n",
    "for i in range (0, len(cadera_model)):\n",
    "    plt.scatter (input_cadera_transform[i][0], input_cadera_transform[i][1], c=\"#FF0000\")\n",
    "    plt.scatter (cadera_model[i][0], cadera_model[i][1], c=\"#000000\")\n",
    "    "
   ]
  },
  {
   "cell_type": "code",
   "execution_count": null,
   "metadata": {},
   "outputs": [],
   "source": []
  }
 ],
 "metadata": {
  "kernelspec": {
   "display_name": "Python 3",
   "language": "python",
   "name": "python3"
  },
  "language_info": {
   "codemirror_mode": {
    "name": "ipython",
    "version": 3
   },
   "file_extension": ".py",
   "mimetype": "text/x-python",
   "name": "python",
   "nbconvert_exporter": "python",
   "pygments_lexer": "ipython3",
   "version": "3.6.7"
  }
 },
 "nbformat": 4,
 "nbformat_minor": 2
}
